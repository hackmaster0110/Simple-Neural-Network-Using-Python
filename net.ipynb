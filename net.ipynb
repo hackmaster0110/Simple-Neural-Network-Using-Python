{
 "cells": [
  {
   "cell_type": "code",
   "execution_count": 6,
   "metadata": {
    "collapsed": true
   },
   "outputs": [],
   "source": [
    "import numpy as np\n",
    "import numba as nb\n",
    "import scipy.special as sp\n",
    "import pickle"
   ]
  },
  {
   "cell_type": "code",
   "execution_count": 9,
   "metadata": {
    "collapsed": true
   },
   "outputs": [],
   "source": [
    "class neuralnet:\n",
    "    \n",
    "    def __init__(self,input_nodes,hidden_nodes,output_nodes,learning_rate):\n",
    "        self.innodes=input_nodes\n",
    "        self.hidnodes=hidden_nodes\n",
    "        self.outnodes=output_nodes\n",
    "        self.lr=learning_rate\n",
    "        \n",
    "        self.wih=np.random.normal(0.0,pow(self.hidnodes,-0.5),(self.innodes,self.hidnodes))\n",
    "        self.who=np.random.normal(0.0,pow(self.outnodes,-0.5),(self.outnodes,self.hidnodes))\n",
    "    \n",
    "        self.activation_function=lambda x: sp.expit(x)\n",
    "        \n",
    "    \n",
    "    \n",
    "    def run(self,input_list):\n",
    "        input_matrix=np.array(input_list,ndmin=2).T\n",
    "        hid_inputs=np.dot(self.wih,input_matrix)\n",
    "        hid_outputs=self.activation_function(hid_inputs)\n",
    "        final_inputs=np.dot(self.who,hid_outputs)\n",
    "        final_outputs=self.activation_function(final_inputs)\n",
    "        return final_outputs,hid_outputs,input_matrix\n",
    "    \n",
    "    def train(self,target_list,input_list):\n",
    "        a,b,c=self.run(input_list)\n",
    "        target=np.array(target_list,ndmin=2).T\n",
    "        output_error=target-a\n",
    "        hidden_errors=np.dot(self.who.T,output_error)\n",
    "        self.who+=self.lr*np.dot((output_error*a*(1-a)),np.transpose(b))\n",
    "        self.wih+=self.lr*np.dot((hidden_errors*b*(1-b)),np.transpose(c))\n",
    "        \n",
    "    def train_loop(self,n,train_set,labels,save=True):\n",
    "        for k in list(range(n)):\n",
    "            for i,j in zip(train_set,labels):\n",
    "                self.train(i,j)\n",
    "                \n",
    "        if save==True:\n",
    "            with open('net_w1','wb') as file1:\n",
    "                pickle.dump(self.wih,file1)\n",
    "\n",
    "            with open('net_w2','wb') as file2:\n",
    "                pickle.dump(self.wih,file2)\n",
    "                \n",
    "    def tell(self,input_list):\n",
    "        with open('net_w1','rb') as f1:\n",
    "            w1=pickle.load(f1)\n",
    "        with open('net_w2','rb') as f2:\n",
    "            w2=pickle.load(f2)\n",
    "\n",
    "        self.wih=w1\n",
    "        self.who=w2\n",
    "        out1,out2,inp=self.run(input_list)\n",
    "        return out1"
   ]
  },
  {
   "cell_type": "code",
   "execution_count": 114,
   "metadata": {},
   "outputs": [],
   "source": [
    "net=neuralnet(4,4,4,0.00000083)\n",
    "train_set=[[0,1,1,0],[0,0,0,0],[0,1,1,0],[1,1,1,1],[0,1,0,1],[1,0,0,1],[0,1,1,0],[0,0,0,0],[0,1,1,0],[1,1,1,1],[0,1,0,1],[1,0,0,1]]\n",
    "labels=[[0.01,0.99,0.01,0.01],[0.01,0.99,0.01,0.01],[0.01,0.99,0.01,0.01],[0.01,0.99,0.01,0.01],[0.01,0.99,0.01,0.01],\n",
    "       [0.01,0.99,0.01,0.01],[0.01,0.99,0.01,0.01],[0.01,0.99,0.01,0.01],[0.01,0.99,0.01,0.01],[0.01,0.99,0.01,0.01],[0.01,0.99,0.01,0.01],\n",
    "       [0.01,0.99,0.01,0.01]]\n",
    "\n",
    "'''Uncomment to train'''\n",
    "#net.train_loop(100000,train_set,labels)\n",
    "\n"
   ]
  },
  {
   "cell_type": "code",
   "execution_count": 118,
   "metadata": {},
   "outputs": [
    {
     "name": "stdout",
     "output_type": "stream",
     "text": [
      "[[ 0.38811283]\n",
      " [ 0.798112  ]\n",
      " [ 0.66204234]\n",
      " [ 0.5369125 ]]\n",
      "0\n"
     ]
    }
   ],
   "source": [
    "def output(inp):\n",
    "    val=net.tell(inp)\n",
    "    print(val)\n",
    "    val=list(val)\n",
    "    print(inp[(val.index(max(val)))])\n",
    "    \n",
    "'''Get output'''  \n",
    "inp=[1,0,1,1]\n",
    "\n",
    "output(inp)\n",
    "\n"
   ]
  },
  {
   "cell_type": "code",
   "execution_count": null,
   "metadata": {
    "collapsed": true
   },
   "outputs": [],
   "source": []
  }
 ],
 "metadata": {
  "kernelspec": {
   "display_name": "Python(env1)",
   "language": "python",
   "name": "env1"
  },
  "language_info": {
   "codemirror_mode": {
    "name": "ipython",
    "version": 3
   },
   "file_extension": ".py",
   "mimetype": "text/x-python",
   "name": "python",
   "nbconvert_exporter": "python",
   "pygments_lexer": "ipython3",
   "version": "3.6.2"
  }
 },
 "nbformat": 4,
 "nbformat_minor": 2
}
